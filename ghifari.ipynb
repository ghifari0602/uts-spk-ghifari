{
 "cells": [
  {
   "cell_type": "code",
   "execution_count": 1,
   "id": "ba478806-072d-4bc1-8626-3208ece96dac",
   "metadata": {},
   "outputs": [],
   "source": [
    "import pandas as pd\n",
    "import numpy as np\n",
    "import csv"
   ]
  },
  {
   "cell_type": "code",
   "execution_count": 36,
   "id": "91bf80fb-7b24-4b52-968f-c88000b21125",
   "metadata": {},
   "outputs": [],
   "source": [
    "table = pd.read_csv('table.csv', sep = ';')"
   ]
  },
  {
   "cell_type": "code",
   "execution_count": 37,
   "id": "fa1ccc07-60d7-49f0-91c1-a9a6adce5bdb",
   "metadata": {},
   "outputs": [
    {
     "data": {
      "text/html": [
       "<div>\n",
       "<style scoped>\n",
       "    .dataframe tbody tr th:only-of-type {\n",
       "        vertical-align: middle;\n",
       "    }\n",
       "\n",
       "    .dataframe tbody tr th {\n",
       "        vertical-align: top;\n",
       "    }\n",
       "\n",
       "    .dataframe thead th {\n",
       "        text-align: right;\n",
       "    }\n",
       "</style>\n",
       "<table border=\"1\" class=\"dataframe\">\n",
       "  <thead>\n",
       "    <tr style=\"text-align: right;\">\n",
       "      <th></th>\n",
       "      <th>Nama</th>\n",
       "      <th>Kisaran harga</th>\n",
       "      <th>Customer Service</th>\n",
       "      <th>Support System</th>\n",
       "      <th>Pilihan pembayaran</th>\n",
       "      <th>Jumlah Server</th>\n",
       "    </tr>\n",
       "  </thead>\n",
       "  <tbody>\n",
       "    <tr>\n",
       "      <th>0</th>\n",
       "      <td>Provider A</td>\n",
       "      <td>5</td>\n",
       "      <td>4</td>\n",
       "      <td>10.0</td>\n",
       "      <td>4</td>\n",
       "      <td>120</td>\n",
       "    </tr>\n",
       "    <tr>\n",
       "      <th>1</th>\n",
       "      <td>Provider B</td>\n",
       "      <td>4</td>\n",
       "      <td>4</td>\n",
       "      <td>5.0</td>\n",
       "      <td>4</td>\n",
       "      <td>87</td>\n",
       "    </tr>\n",
       "    <tr>\n",
       "      <th>2</th>\n",
       "      <td>Provider C</td>\n",
       "      <td>5</td>\n",
       "      <td>5</td>\n",
       "      <td>7.5</td>\n",
       "      <td>3</td>\n",
       "      <td>67</td>\n",
       "    </tr>\n",
       "    <tr>\n",
       "      <th>3</th>\n",
       "      <td>Provider D</td>\n",
       "      <td>4</td>\n",
       "      <td>4</td>\n",
       "      <td>4.0</td>\n",
       "      <td>5</td>\n",
       "      <td>98</td>\n",
       "    </tr>\n",
       "    <tr>\n",
       "      <th>4</th>\n",
       "      <td>Provider E</td>\n",
       "      <td>3</td>\n",
       "      <td>3</td>\n",
       "      <td>25.0</td>\n",
       "      <td>4</td>\n",
       "      <td>100</td>\n",
       "    </tr>\n",
       "  </tbody>\n",
       "</table>\n",
       "</div>"
      ],
      "text/plain": [
       "         Nama  Kisaran harga  Customer Service  Support System  \\\n",
       "0  Provider A              5                 4            10.0   \n",
       "1  Provider B              4                 4             5.0   \n",
       "2  Provider C              5                 5             7.5   \n",
       "3  Provider D              4                 4             4.0   \n",
       "4  Provider E              3                 3            25.0   \n",
       "\n",
       "   Pilihan pembayaran  Jumlah Server  \n",
       "0                   4            120  \n",
       "1                   4             87  \n",
       "2                   3             67  \n",
       "3                   5             98  \n",
       "4                   4            100  "
      ]
     },
     "execution_count": 37,
     "metadata": {},
     "output_type": "execute_result"
    }
   ],
   "source": [
    "table.head()"
   ]
  },
  {
   "cell_type": "code",
   "execution_count": 38,
   "id": "63e29bf0-e1d6-4f98-a02d-e1a31fb3b12e",
   "metadata": {},
   "outputs": [
    {
     "name": "stdout",
     "output_type": "stream",
     "text": [
      "0    5\n",
      "1    4\n",
      "2    5\n",
      "3    4\n",
      "4    3\n",
      "Name: Kisaran harga, dtype: int64\n"
     ]
    }
   ],
   "source": [
    "print(table[\"Kisaran harga\"])"
   ]
  },
  {
   "cell_type": "code",
   "execution_count": 39,
   "id": "93ee605c-8e6d-43d2-a1a1-8770d69700ed",
   "metadata": {},
   "outputs": [],
   "source": [
    "table = pd.DataFrame({'A1':['5','4','10','4','120'],\n",
    "                     'A2':['4','4','5','4','84'],\n",
    "                     'A3':['5','5','7.5','3','67'],\n",
    "                     'A4':['4','4','4','5','98'],\n",
    "                     'A5':['3','3','25','4','0'],},\n",
    "                    index=[0,1,2,3,4])"
   ]
  },
  {
   "cell_type": "code",
   "execution_count": 8,
   "id": "69320b96-3c69-485c-9bfe-2fbc911b2ca5",
   "metadata": {},
   "outputs": [
    {
     "data": {
      "text/html": [
       "<div>\n",
       "<style scoped>\n",
       "    .dataframe tbody tr th:only-of-type {\n",
       "        vertical-align: middle;\n",
       "    }\n",
       "\n",
       "    .dataframe tbody tr th {\n",
       "        vertical-align: top;\n",
       "    }\n",
       "\n",
       "    .dataframe thead th {\n",
       "        text-align: right;\n",
       "    }\n",
       "</style>\n",
       "<table border=\"1\" class=\"dataframe\">\n",
       "  <thead>\n",
       "    <tr style=\"text-align: right;\">\n",
       "      <th></th>\n",
       "      <th>A1</th>\n",
       "      <th>A2</th>\n",
       "      <th>A3</th>\n",
       "      <th>A4</th>\n",
       "      <th>A5</th>\n",
       "    </tr>\n",
       "  </thead>\n",
       "  <tbody>\n",
       "    <tr>\n",
       "      <th>0</th>\n",
       "      <td>5</td>\n",
       "      <td>4</td>\n",
       "      <td>5</td>\n",
       "      <td>4</td>\n",
       "      <td>3</td>\n",
       "    </tr>\n",
       "    <tr>\n",
       "      <th>1</th>\n",
       "      <td>4</td>\n",
       "      <td>4</td>\n",
       "      <td>5</td>\n",
       "      <td>4</td>\n",
       "      <td>3</td>\n",
       "    </tr>\n",
       "    <tr>\n",
       "      <th>2</th>\n",
       "      <td>10</td>\n",
       "      <td>5</td>\n",
       "      <td>7.5</td>\n",
       "      <td>4</td>\n",
       "      <td>25</td>\n",
       "    </tr>\n",
       "    <tr>\n",
       "      <th>3</th>\n",
       "      <td>4</td>\n",
       "      <td>4</td>\n",
       "      <td>3</td>\n",
       "      <td>5</td>\n",
       "      <td>4</td>\n",
       "    </tr>\n",
       "    <tr>\n",
       "      <th>4</th>\n",
       "      <td>120</td>\n",
       "      <td>84</td>\n",
       "      <td>67</td>\n",
       "      <td>98</td>\n",
       "      <td>0</td>\n",
       "    </tr>\n",
       "  </tbody>\n",
       "</table>\n",
       "</div>"
      ],
      "text/plain": [
       "    A1  A2   A3  A4  A5\n",
       "0    5   4    5   4   3\n",
       "1    4   4    5   4   3\n",
       "2   10   5  7.5   4  25\n",
       "3    4   4    3   5   4\n",
       "4  120  84   67  98   0"
      ]
     },
     "execution_count": 8,
     "metadata": {},
     "output_type": "execute_result"
    }
   ],
   "source": [
    "table"
   ]
  },
  {
   "cell_type": "code",
   "execution_count": 40,
   "id": "38456b68-1493-4373-97d5-1e18980f9307",
   "metadata": {},
   "outputs": [],
   "source": [
    "bobot = pd.read_csv('bobot.csv', sep = \";\")"
   ]
  },
  {
   "cell_type": "code",
   "execution_count": 92,
   "id": "3a2137b3-ee47-47b7-9630-73f9240412ec",
   "metadata": {},
   "outputs": [
    {
     "data": {
      "text/html": [
       "<div>\n",
       "<style scoped>\n",
       "    .dataframe tbody tr th:only-of-type {\n",
       "        vertical-align: middle;\n",
       "    }\n",
       "\n",
       "    .dataframe tbody tr th {\n",
       "        vertical-align: top;\n",
       "    }\n",
       "\n",
       "    .dataframe thead th {\n",
       "        text-align: right;\n",
       "    }\n",
       "</style>\n",
       "<table border=\"1\" class=\"dataframe\">\n",
       "  <thead>\n",
       "    <tr style=\"text-align: right;\">\n",
       "      <th></th>\n",
       "      <th>A1</th>\n",
       "      <th>A2</th>\n",
       "      <th>A3</th>\n",
       "      <th>A4</th>\n",
       "      <th>A5</th>\n",
       "    </tr>\n",
       "  </thead>\n",
       "  <tbody>\n",
       "    <tr>\n",
       "      <th>0</th>\n",
       "      <td>3</td>\n",
       "      <td>5</td>\n",
       "      <td>3</td>\n",
       "      <td>2</td>\n",
       "      <td>4</td>\n",
       "    </tr>\n",
       "  </tbody>\n",
       "</table>\n",
       "</div>"
      ],
      "text/plain": [
       "  A1 A2 A3 A4 A5\n",
       "0  3  5  3  2  4"
      ]
     },
     "execution_count": 92,
     "metadata": {},
     "output_type": "execute_result"
    }
   ],
   "source": [
    "bobot.head()"
   ]
  },
  {
   "cell_type": "code",
   "execution_count": 46,
   "id": "04c903da-4470-4858-9925-b651b5f45ea5",
   "metadata": {},
   "outputs": [],
   "source": [
    "bobot1 = pd.DataFrame ({'A1':['3'],\n",
    "                     'A2':['5'],\n",
    "                     'A3':['3'],\n",
    "                     'A4':['2'],\n",
    "                     'A5':['4'],},\n",
    "                    index=[0])"
   ]
  },
  {
   "cell_type": "code",
   "execution_count": 48,
   "id": "2dcbc9ee-23d5-4384-92a0-0fc925c7df25",
   "metadata": {},
   "outputs": [
    {
     "data": {
      "text/html": [
       "<div>\n",
       "<style scoped>\n",
       "    .dataframe tbody tr th:only-of-type {\n",
       "        vertical-align: middle;\n",
       "    }\n",
       "\n",
       "    .dataframe tbody tr th {\n",
       "        vertical-align: top;\n",
       "    }\n",
       "\n",
       "    .dataframe thead th {\n",
       "        text-align: right;\n",
       "    }\n",
       "</style>\n",
       "<table border=\"1\" class=\"dataframe\">\n",
       "  <thead>\n",
       "    <tr style=\"text-align: right;\">\n",
       "      <th></th>\n",
       "      <th>A1</th>\n",
       "      <th>A2</th>\n",
       "      <th>A3</th>\n",
       "      <th>A4</th>\n",
       "      <th>A5</th>\n",
       "    </tr>\n",
       "  </thead>\n",
       "  <tbody>\n",
       "    <tr>\n",
       "      <th>0</th>\n",
       "      <td>3</td>\n",
       "      <td>5</td>\n",
       "      <td>3</td>\n",
       "      <td>2</td>\n",
       "      <td>4</td>\n",
       "    </tr>\n",
       "  </tbody>\n",
       "</table>\n",
       "</div>"
      ],
      "text/plain": [
       "  A1 A2 A3 A4 A5\n",
       "0  3  5  3  2  4"
      ]
     },
     "execution_count": 48,
     "metadata": {},
     "output_type": "execute_result"
    }
   ],
   "source": [
    "bobot1"
   ]
  },
  {
   "cell_type": "code",
   "execution_count": 94,
   "id": "9ce1c256-5f89-40a7-87e8-86e5d2d71fa9",
   "metadata": {},
   "outputs": [
    {
     "name": "stdout",
     "output_type": "stream",
     "text": [
      "A1    3353335323533353435333532353335333533353235333...\n",
      "A2    5353335323533353435333532353335333533353235333...\n",
      "A3    3353335323533353435333532353335333533353235333...\n",
      "A4    2353335323533353435333532353335333533353235333...\n",
      "A5    4353335323533353435333532353335333533353235333...\n",
      "Name: 0, dtype: object\n",
      "<class 'pandas.core.frame.DataFrame'>\n",
      "1\n"
     ]
    }
   ],
   "source": [
    "print(bobot1.loc[0])\n",
    "print(type(bobot1))\n",
    "print(len(bobot1))"
   ]
  },
  {
   "cell_type": "code",
   "execution_count": 95,
   "id": "b6246537-001c-40e9-8cea-211b16086ff1",
   "metadata": {},
   "outputs": [],
   "source": [
    "def jumlah_total(daftar_nilai):\n",
    "    #inisialisasi\n",
    "    z=0;\n",
    "    x = daftar_nilai\n",
    "    jml = len(x)\n",
    "\n",
    "    #proses iterasi penjumlahan\n",
    "    #menggunakan fungsi range\n",
    "    for i in range(jml):\n",
    "        y = x[i]\n",
    "        z+=y\n",
    "\n",
    "    #kembalikan hasil   \n",
    "    return z"
   ]
  },
  {
   "cell_type": "code",
   "execution_count": 103,
   "id": "8250fc00-d9f0-4b36-bf99-03768f6fe34b",
   "metadata": {},
   "outputs": [
    {
     "ename": "TypeError",
     "evalue": "unsupported operand type(s) for -: 'str' and 'str'",
     "output_type": "error",
     "traceback": [
      "\u001b[1;31m---------------------------------------------------------------------------\u001b[0m",
      "\u001b[1;31mTypeError\u001b[0m                                 Traceback (most recent call last)",
      "\u001b[1;32m<ipython-input-103-15e217210ba4>\u001b[0m in \u001b[0;36m<module>\u001b[1;34m\u001b[0m\n\u001b[0;32m      2\u001b[0m \u001b[1;32mfor\u001b[0m \u001b[0mi\u001b[0m \u001b[1;32min\u001b[0m \u001b[0mrange\u001b[0m\u001b[1;33m(\u001b[0m\u001b[1;36m0\u001b[0m\u001b[1;33m,\u001b[0m\u001b[1;36m5\u001b[0m\u001b[1;33m)\u001b[0m\u001b[1;33m:\u001b[0m\u001b[1;33m\u001b[0m\u001b[1;33m\u001b[0m\u001b[0m\n\u001b[0;32m      3\u001b[0m \u001b[1;31m#     jumlah_data = bobot1[i]\u001b[0m\u001b[1;33m\u001b[0m\u001b[1;33m\u001b[0m\u001b[1;33m\u001b[0m\u001b[0m\n\u001b[1;32m----> 4\u001b[1;33m     \u001b[0mprint\u001b[0m\u001b[1;33m(\u001b[0m\u001b[0mbobot1\u001b[0m\u001b[1;33m.\u001b[0m\u001b[0mloc\u001b[0m\u001b[1;33m[\u001b[0m\u001b[1;36m0\u001b[0m\u001b[1;33m]\u001b[0m\u001b[1;33m[\u001b[0m\u001b[0mi\u001b[0m\u001b[1;33m]\u001b[0m \u001b[1;33m-\u001b[0m \u001b[0mbobot1\u001b[0m\u001b[1;33m.\u001b[0m\u001b[0mloc\u001b[0m\u001b[1;33m[\u001b[0m\u001b[1;36m0\u001b[0m\u001b[1;33m]\u001b[0m\u001b[1;33m[\u001b[0m\u001b[0mi\u001b[0m\u001b[1;33m-\u001b[0m\u001b[1;36m1\u001b[0m\u001b[1;33m]\u001b[0m\u001b[1;33m)\u001b[0m\u001b[1;33m\u001b[0m\u001b[1;33m\u001b[0m\u001b[0m\n\u001b[0m\u001b[0;32m      5\u001b[0m \u001b[1;31m#     print(jumlah_data)\u001b[0m\u001b[1;33m\u001b[0m\u001b[1;33m\u001b[0m\u001b[1;33m\u001b[0m\u001b[0m\n\u001b[0;32m      6\u001b[0m \u001b[1;31m#     AA.append(nilai)\u001b[0m\u001b[1;33m\u001b[0m\u001b[1;33m\u001b[0m\u001b[1;33m\u001b[0m\u001b[0m\n",
      "\u001b[1;31mTypeError\u001b[0m: unsupported operand type(s) for -: 'str' and 'str'"
     ]
    }
   ],
   "source": [
    "AA =[]\n",
    "for i in range(0,5):\n",
    "#     jumlah_data = bobot1[i]\n",
    "#     print(jumlah_data)\n",
    "#     AA.append(nilai)\n",
    "# AA = np.array(AA)\n",
    "# print(AA)\n",
    "# print(type(AA))\n",
    "# jmlh_bobot = jumlah_total(AA)"
   ]
  },
  {
   "cell_type": "code",
   "execution_count": null,
   "id": "de200e5a-9ece-4951-ae39-cb78d0541008",
   "metadata": {},
   "outputs": [],
   "source": []
  },
  {
   "cell_type": "code",
   "execution_count": null,
   "id": "bdf252b0-cd6a-4bbf-b158-13072495b317",
   "metadata": {},
   "outputs": [],
   "source": []
  }
 ],
 "metadata": {
  "kernelspec": {
   "display_name": "Python 3",
   "language": "python",
   "name": "python3"
  },
  "language_info": {
   "codemirror_mode": {
    "name": "ipython",
    "version": 3
   },
   "file_extension": ".py",
   "mimetype": "text/x-python",
   "name": "python",
   "nbconvert_exporter": "python",
   "pygments_lexer": "ipython3",
   "version": "3.8.8"
  }
 },
 "nbformat": 4,
 "nbformat_minor": 5
}
